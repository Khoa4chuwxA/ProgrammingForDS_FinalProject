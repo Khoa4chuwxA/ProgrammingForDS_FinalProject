{
 "cells": [
  {
   "cell_type": "markdown",
   "id": "ae28d04a-cad0-4a4a-950a-2c79f44c4b5b",
   "metadata": {},
   "source": [
    "<div style=\"text-align: center; background-color: #0A6EBD; font-family: 'Trebuchet MS', Arial, sans-serif; color: white; padding: 30px; font-size: 27px; font-weight: bold; border-radius: 0 0 0 0; box-shadow: 0px 6px 8px rgba(0, 0, 0, 0.2);\">\n",
    "  Final Project - Programming For Data Science @ FIT-HCMUS, VNU-HCM\n",
    "</div>"
   ]
  },
  {
   "cell_type": "markdown",
   "id": "057a8e56-5476-4ec5-a06f-9aaa2066fd7c",
   "metadata": {},
   "source": [
    "<div style=\"text-align: center; background-color: #5A96E3; font-family: 'Trebuchet MS', Arial, sans-serif; color: white; padding: 20px; font-size: 25px; font-weight: bold; border-radius: 0 0 0 0; box-shadow: 0px 6px 8px rgba(0, 0, 0, 0.2);\">\n",
    "  Data collecting\n",
    "</div>"
   ]
  },
  {
   "cell_type": "markdown",
   "id": "4e9ecb59-0613-4a68-9d54-62f9fa15de9b",
   "metadata": {},
   "source": [
    "# 1. Data Information"
   ]
  },
  {
   "cell_type": "markdown",
   "id": "0777abbe-a6e2-43b9-b4ea-06f376ac8930",
   "metadata": {},
   "source": [
    "- [Super Market Sales](https://www.kaggle.com/datasets/arunjangir245/super-market-sales/data) dataset is about Retail and Shopping.\n",
    "- This dataset contains detailed transaction records from various stores across different cities. This dataset was publicly shared on Kaggle.  \n",
    "- The author collected data from various resources.  \r\n"
   ]
  },
  {
   "cell_type": "markdown",
   "id": "0cca6103-ad16-4d5c-a674-5042303b9556",
   "metadata": {},
   "source": [
    "# 2. Data license"
   ]
  },
  {
   "cell_type": "markdown",
   "id": "f329f0d3-8a7e-4f4b-8bb9-8f5916261d78",
   "metadata": {},
   "source": [
    "[**Database Contents License (DbCL) v1.0**](http://opendatacommons.org/licenses/dbcl/1.0/)  \n",
    "The DbCL v1.0 allows a user of the database contents to share, create and adapt the contents.\n"
   ]
  }
 ],
 "metadata": {
  "kernelspec": {
   "display_name": "Python 3 (ipykernel)",
   "language": "python",
   "name": "python3"
  },
  "language_info": {
   "codemirror_mode": {
    "name": "ipython",
    "version": 3
   },
   "file_extension": ".py",
   "mimetype": "text/x-python",
   "name": "python",
   "nbconvert_exporter": "python",
   "pygments_lexer": "ipython3",
   "version": "3.10.8"
  }
 },
 "nbformat": 4,
 "nbformat_minor": 5
}
