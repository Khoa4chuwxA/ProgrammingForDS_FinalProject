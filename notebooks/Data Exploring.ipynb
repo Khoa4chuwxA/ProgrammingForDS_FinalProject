{
 "cells": [
  {
   "cell_type": "markdown",
   "id": "20befa6c",
   "metadata": {},
   "source": [
    "<div style=\"text-align: center; background-color: #0A6EBD; font-family: 'Trebuchet MS', Arial, sans-serif; color: white; padding: 30px; font-size: 27px; font-weight: bold; border-radius: 0 0 0 0; box-shadow: 0px 6px 8px rgba(0, 0, 0, 0.2);\">\n",
    "  Final Project - Programming For Data Science @ FIT-HCMUS, VNU-HCM\n",
    "</div>"
   ]
  },
  {
   "cell_type": "markdown",
   "id": "463fcc0d",
   "metadata": {},
   "source": [
    "<div style=\"text-align: center; background-color: #5A96E3; font-family: 'Trebuchet MS', Arial, sans-serif; color: white; padding: 20px; font-size: 25px; font-weight: bold; border-radius: 0 0 0 0; box-shadow: 0px 6px 8px rgba(0, 0, 0, 0.2);\">\n",
    "  Data exploring\n",
    "</div>"
   ]
  },
  {
   "cell_type": "markdown",
   "id": "203f23c6",
   "metadata": {},
   "source": [
    "## 1. Import library"
   ]
  },
  {
   "cell_type": "code",
   "execution_count": 1,
   "id": "be57a5f6",
   "metadata": {},
   "outputs": [],
   "source": [
    "import numpy as np\n",
    "import pandas as pd"
   ]
  },
  {
   "cell_type": "markdown",
   "id": "ae9c0451",
   "metadata": {},
   "source": [
    "## 2. Data exploring"
   ]
  },
  {
   "cell_type": "markdown",
   "id": "547780b6",
   "metadata": {},
   "source": [
    "### 2.1. Read raw data from file"
   ]
  },
  {
   "cell_type": "code",
   "execution_count": 2,
   "id": "f1e28b67",
   "metadata": {},
   "outputs": [
    {
     "data": {
      "text/html": [
       "<div>\n",
       "<style scoped>\n",
       "    .dataframe tbody tr th:only-of-type {\n",
       "        vertical-align: middle;\n",
       "    }\n",
       "\n",
       "    .dataframe tbody tr th {\n",
       "        vertical-align: top;\n",
       "    }\n",
       "\n",
       "    .dataframe thead th {\n",
       "        text-align: right;\n",
       "    }\n",
       "</style>\n",
       "<table border=\"1\" class=\"dataframe\">\n",
       "  <thead>\n",
       "    <tr style=\"text-align: right;\">\n",
       "      <th></th>\n",
       "      <th>Branch</th>\n",
       "      <th>City</th>\n",
       "      <th>Customer type</th>\n",
       "      <th>Gender</th>\n",
       "      <th>Product line</th>\n",
       "      <th>Unit price</th>\n",
       "      <th>Quantity</th>\n",
       "      <th>Tax 5%</th>\n",
       "      <th>Total</th>\n",
       "      <th>Date</th>\n",
       "      <th>Time</th>\n",
       "      <th>Payment</th>\n",
       "      <th>cogs</th>\n",
       "      <th>gross margin percentage</th>\n",
       "      <th>gross income</th>\n",
       "      <th>Rating</th>\n",
       "    </tr>\n",
       "    <tr>\n",
       "      <th>Invoice ID</th>\n",
       "      <th></th>\n",
       "      <th></th>\n",
       "      <th></th>\n",
       "      <th></th>\n",
       "      <th></th>\n",
       "      <th></th>\n",
       "      <th></th>\n",
       "      <th></th>\n",
       "      <th></th>\n",
       "      <th></th>\n",
       "      <th></th>\n",
       "      <th></th>\n",
       "      <th></th>\n",
       "      <th></th>\n",
       "      <th></th>\n",
       "      <th></th>\n",
       "    </tr>\n",
       "  </thead>\n",
       "  <tbody>\n",
       "    <tr>\n",
       "      <th>750-67-8428</th>\n",
       "      <td>A</td>\n",
       "      <td>Yangon</td>\n",
       "      <td>Member</td>\n",
       "      <td>Female</td>\n",
       "      <td>Health and beauty</td>\n",
       "      <td>74.69</td>\n",
       "      <td>7</td>\n",
       "      <td>26.1415</td>\n",
       "      <td>548.9715</td>\n",
       "      <td>1/5/2019</td>\n",
       "      <td>13:08</td>\n",
       "      <td>Ewallet</td>\n",
       "      <td>522.83</td>\n",
       "      <td>4.761905</td>\n",
       "      <td>26.1415</td>\n",
       "      <td>9.1</td>\n",
       "    </tr>\n",
       "    <tr>\n",
       "      <th>226-31-3081</th>\n",
       "      <td>C</td>\n",
       "      <td>Naypyitaw</td>\n",
       "      <td>Normal</td>\n",
       "      <td>Female</td>\n",
       "      <td>Electronic accessories</td>\n",
       "      <td>15.28</td>\n",
       "      <td>5</td>\n",
       "      <td>3.8200</td>\n",
       "      <td>80.2200</td>\n",
       "      <td>3/8/2019</td>\n",
       "      <td>10:29</td>\n",
       "      <td>Cash</td>\n",
       "      <td>76.40</td>\n",
       "      <td>4.761905</td>\n",
       "      <td>3.8200</td>\n",
       "      <td>9.6</td>\n",
       "    </tr>\n",
       "    <tr>\n",
       "      <th>631-41-3108</th>\n",
       "      <td>A</td>\n",
       "      <td>Yangon</td>\n",
       "      <td>Normal</td>\n",
       "      <td>Male</td>\n",
       "      <td>Home and lifestyle</td>\n",
       "      <td>46.33</td>\n",
       "      <td>7</td>\n",
       "      <td>16.2155</td>\n",
       "      <td>340.5255</td>\n",
       "      <td>3/3/2019</td>\n",
       "      <td>13:23</td>\n",
       "      <td>Credit card</td>\n",
       "      <td>324.31</td>\n",
       "      <td>4.761905</td>\n",
       "      <td>16.2155</td>\n",
       "      <td>7.4</td>\n",
       "    </tr>\n",
       "    <tr>\n",
       "      <th>123-19-1176</th>\n",
       "      <td>A</td>\n",
       "      <td>Yangon</td>\n",
       "      <td>Member</td>\n",
       "      <td>Male</td>\n",
       "      <td>Health and beauty</td>\n",
       "      <td>58.22</td>\n",
       "      <td>8</td>\n",
       "      <td>23.2880</td>\n",
       "      <td>489.0480</td>\n",
       "      <td>1/27/2019</td>\n",
       "      <td>20:33</td>\n",
       "      <td>Ewallet</td>\n",
       "      <td>465.76</td>\n",
       "      <td>4.761905</td>\n",
       "      <td>23.2880</td>\n",
       "      <td>8.4</td>\n",
       "    </tr>\n",
       "    <tr>\n",
       "      <th>373-73-7910</th>\n",
       "      <td>A</td>\n",
       "      <td>Yangon</td>\n",
       "      <td>Normal</td>\n",
       "      <td>Male</td>\n",
       "      <td>Sports and travel</td>\n",
       "      <td>86.31</td>\n",
       "      <td>7</td>\n",
       "      <td>30.2085</td>\n",
       "      <td>634.3785</td>\n",
       "      <td>2/8/2019</td>\n",
       "      <td>10:37</td>\n",
       "      <td>Ewallet</td>\n",
       "      <td>604.17</td>\n",
       "      <td>4.761905</td>\n",
       "      <td>30.2085</td>\n",
       "      <td>5.3</td>\n",
       "    </tr>\n",
       "  </tbody>\n",
       "</table>\n",
       "</div>"
      ],
      "text/plain": [
       "            Branch       City Customer type  Gender            Product line  \\\n",
       "Invoice ID                                                                    \n",
       "750-67-8428      A     Yangon        Member  Female       Health and beauty   \n",
       "226-31-3081      C  Naypyitaw        Normal  Female  Electronic accessories   \n",
       "631-41-3108      A     Yangon        Normal    Male      Home and lifestyle   \n",
       "123-19-1176      A     Yangon        Member    Male       Health and beauty   \n",
       "373-73-7910      A     Yangon        Normal    Male       Sports and travel   \n",
       "\n",
       "             Unit price  Quantity   Tax 5%     Total       Date   Time  \\\n",
       "Invoice ID                                                               \n",
       "750-67-8428       74.69         7  26.1415  548.9715   1/5/2019  13:08   \n",
       "226-31-3081       15.28         5   3.8200   80.2200   3/8/2019  10:29   \n",
       "631-41-3108       46.33         7  16.2155  340.5255   3/3/2019  13:23   \n",
       "123-19-1176       58.22         8  23.2880  489.0480  1/27/2019  20:33   \n",
       "373-73-7910       86.31         7  30.2085  634.3785   2/8/2019  10:37   \n",
       "\n",
       "                 Payment    cogs  gross margin percentage  gross income  \\\n",
       "Invoice ID                                                                \n",
       "750-67-8428      Ewallet  522.83                 4.761905       26.1415   \n",
       "226-31-3081         Cash   76.40                 4.761905        3.8200   \n",
       "631-41-3108  Credit card  324.31                 4.761905       16.2155   \n",
       "123-19-1176      Ewallet  465.76                 4.761905       23.2880   \n",
       "373-73-7910      Ewallet  604.17                 4.761905       30.2085   \n",
       "\n",
       "             Rating  \n",
       "Invoice ID           \n",
       "750-67-8428     9.1  \n",
       "226-31-3081     9.6  \n",
       "631-41-3108     7.4  \n",
       "123-19-1176     8.4  \n",
       "373-73-7910     5.3  "
      ]
     },
     "execution_count": 2,
     "metadata": {},
     "output_type": "execute_result"
    }
   ],
   "source": [
    "raw_supermarket_df = pd.read_csv('../data/raw/supermarket_sales.csv',\n",
    "                                  index_col='Invoice ID')\n",
    "raw_supermarket_df.head()"
   ]
  },
  {
   "cell_type": "markdown",
   "id": "e210e452",
   "metadata": {},
   "source": [
    "### 2.2. How many rows and how many columns?"
   ]
  },
  {
   "cell_type": "code",
   "execution_count": 3,
   "id": "ba3adbc2",
   "metadata": {},
   "outputs": [
    {
     "name": "stdout",
     "output_type": "stream",
     "text": [
      "Data have 1000 rows and 16 columns\n"
     ]
    }
   ],
   "source": [
    "shape = raw_supermarket_df.shape\n",
    "print(f'Data have {shape[0]} rows and {shape[1]} columns')"
   ]
  },
  {
   "cell_type": "markdown",
   "id": "afb23d1c",
   "metadata": {},
   "source": [
    "### 2.3. What is the meaning of each row?"
   ]
  },
  {
   "cell_type": "markdown",
   "id": "bdfcfc55",
   "metadata": {},
   "source": [
    "Each row represents a single supermarket bill."
   ]
  },
  {
   "cell_type": "markdown",
   "id": "7a20a7e8",
   "metadata": {},
   "source": [
    "### 2.4. Are there duplicated rows?"
   ]
  },
  {
   "cell_type": "code",
   "execution_count": 4,
   "id": "92e1a06e",
   "metadata": {},
   "outputs": [
    {
     "name": "stdout",
     "output_type": "stream",
     "text": [
      "Number of duplicated rows: 0\n"
     ]
    }
   ],
   "source": [
    "num_duplicated_rows = raw_supermarket_df.duplicated().sum()\n",
    "print(f'Number of duplicated rows: {num_duplicated_rows}')"
   ]
  },
  {
   "cell_type": "markdown",
   "id": "68eeb329",
   "metadata": {},
   "source": [
    "### 2.5. What is the meaning of each column?"
   ]
  },
  {
   "cell_type": "markdown",
   "id": "6eae999a",
   "metadata": {},
   "source": [
    "Based on [Super Market Sales Data](https://www.kaggle.com/datasets/arunjangir245/super-market-sales/data)\n",
    "\n",
    "| ID | Field            | Description                                                   |\n",
    "|----|------------------|---------------------------------------------------------------|\n",
    "| 1  | Invoice ID       | Unique identifier for each transaction                        |\n",
    "| 2  | Branch           | Three-to-five character hashtag indicating the branch         |\n",
    "| 3  | City             | Location of the branch                                        |\n",
    "| 4  | Customer Type    | Indicates if the customer is regular or new                   |\n",
    "| 5  | Gender           | Gender of the customer                                        |\n",
    "| 6  | Product Line     | Category/type of purchased product                            |\n",
    "| 7  | Unit Price       | Price of a single product unit                                |\n",
    "| 8  | Quantity         | Number of units purchased                                     |\n",
    "| 9  | Tax 5%           | Amount of 5% tax applied to the transaction                   |\n",
    "| 10 | Total            | Total cost of the transaction, including tax                  |\n",
    "| 11 | Date             | Transaction date                                              |\n",
    "| 12 | Time             | Transaction time of day                                       |\n",
    "| 13 | Payment          | Payment method used (e.g., credit card, cash)                 |\n",
    "| 14 | COGS             | Direct costs related to producing/purchasing the products sold|\n",
    "| 15 | Gross Margin %   | Profit margin percentage for the transaction                  |\n",
    "| 16 | Gross Income     | Total profit earned from the transaction                      |\n",
    "| 17 | Rating           | Customer satisfaction rating or feedback on the transaction   |\n"
   ]
  },
  {
   "cell_type": "markdown",
   "id": "3580d222",
   "metadata": {},
   "source": [
    "### 2.6. What is the current data type of each column? Are there columns having inappropriate data types?"
   ]
  },
  {
   "cell_type": "code",
   "execution_count": 5,
   "id": "0b022541",
   "metadata": {},
   "outputs": [
    {
     "name": "stdout",
     "output_type": "stream",
     "text": [
      "<class 'pandas.core.frame.DataFrame'>\n",
      "Index: 1000 entries, 750-67-8428 to 849-09-3807\n",
      "Data columns (total 16 columns):\n",
      " #   Column                   Non-Null Count  Dtype  \n",
      "---  ------                   --------------  -----  \n",
      " 0   Branch                   1000 non-null   object \n",
      " 1   City                     1000 non-null   object \n",
      " 2   Customer type            1000 non-null   object \n",
      " 3   Gender                   1000 non-null   object \n",
      " 4   Product line             1000 non-null   object \n",
      " 5   Unit price               1000 non-null   float64\n",
      " 6   Quantity                 1000 non-null   int64  \n",
      " 7   Tax 5%                   1000 non-null   float64\n",
      " 8   Total                    1000 non-null   float64\n",
      " 9   Date                     1000 non-null   object \n",
      " 10  Time                     1000 non-null   object \n",
      " 11  Payment                  1000 non-null   object \n",
      " 12  cogs                     1000 non-null   float64\n",
      " 13  gross margin percentage  1000 non-null   float64\n",
      " 14  gross income             1000 non-null   float64\n",
      " 15  Rating                   1000 non-null   float64\n",
      "dtypes: float64(7), int64(1), object(8)\n",
      "memory usage: 132.8+ KB\n"
     ]
    }
   ],
   "source": [
    "raw_supermarket_df.info()"
   ]
  },
  {
   "cell_type": "code",
   "execution_count": 6,
   "id": "2cb4007b",
   "metadata": {},
   "outputs": [
    {
     "data": {
      "text/plain": [
       "Invoice ID\n",
       "750-67-8428     1/5/2019\n",
       "226-31-3081     3/8/2019\n",
       "631-41-3108     3/3/2019\n",
       "123-19-1176    1/27/2019\n",
       "373-73-7910     2/8/2019\n",
       "Name: Date, dtype: object"
      ]
     },
     "execution_count": 6,
     "metadata": {},
     "output_type": "execute_result"
    }
   ],
   "source": [
    "raw_supermarket_df['Date'].head()"
   ]
  },
  {
   "cell_type": "markdown",
   "id": "164b70a0",
   "metadata": {},
   "source": [
    "The Date format is currently in m/d/YYYY, and our intention is to convert it to dd/mm/YYYY format. We will combine these values into a `Datetime` column while removing the `Date` and `Time` columns. The resulting `Datetime` column should be the datetime datatype."
   ]
  },
  {
   "cell_type": "code",
   "execution_count": 7,
   "id": "66794c60",
   "metadata": {},
   "outputs": [],
   "source": [
    "raw_supermarket_df['Datetime'] = raw_supermarket_df['Date'] + ' ' +raw_supermarket_df['Time']\n",
    "raw_supermarket_df['Datetime'] = pd.to_datetime(raw_supermarket_df['Datetime'], format='%m/%d/%Y %H:%M')\n",
    "raw_supermarket_df = raw_supermarket_df.drop(columns=['Date', 'Time'])"
   ]
  },
  {
   "cell_type": "code",
   "execution_count": 8,
   "id": "4e1497b5",
   "metadata": {},
   "outputs": [
    {
     "name": "stdout",
     "output_type": "stream",
     "text": [
      "<class 'pandas.core.frame.DataFrame'>\n",
      "Index: 1000 entries, 750-67-8428 to 849-09-3807\n",
      "Data columns (total 15 columns):\n",
      " #   Column                   Non-Null Count  Dtype         \n",
      "---  ------                   --------------  -----         \n",
      " 0   Branch                   1000 non-null   object        \n",
      " 1   City                     1000 non-null   object        \n",
      " 2   Customer type            1000 non-null   object        \n",
      " 3   Gender                   1000 non-null   object        \n",
      " 4   Product line             1000 non-null   object        \n",
      " 5   Unit price               1000 non-null   float64       \n",
      " 6   Quantity                 1000 non-null   int64         \n",
      " 7   Tax 5%                   1000 non-null   float64       \n",
      " 8   Total                    1000 non-null   float64       \n",
      " 9   Payment                  1000 non-null   object        \n",
      " 10  cogs                     1000 non-null   float64       \n",
      " 11  gross margin percentage  1000 non-null   float64       \n",
      " 12  gross income             1000 non-null   float64       \n",
      " 13  Rating                   1000 non-null   float64       \n",
      " 14  Datetime                 1000 non-null   datetime64[ns]\n",
      "dtypes: datetime64[ns](1), float64(7), int64(1), object(6)\n",
      "memory usage: 125.0+ KB\n"
     ]
    }
   ],
   "source": [
    "# Check again\n",
    "raw_supermarket_df.info()"
   ]
  },
  {
   "cell_type": "markdown",
   "id": "16dc6365",
   "metadata": {},
   "source": [
    "### 2.7. With each numerical column, how are values distributed?"
   ]
  },
  {
   "cell_type": "code",
   "execution_count": 9,
   "id": "4984b551",
   "metadata": {},
   "outputs": [
    {
     "data": {
      "text/html": [
       "<div>\n",
       "<style scoped>\n",
       "    .dataframe tbody tr th:only-of-type {\n",
       "        vertical-align: middle;\n",
       "    }\n",
       "\n",
       "    .dataframe tbody tr th {\n",
       "        vertical-align: top;\n",
       "    }\n",
       "\n",
       "    .dataframe thead th {\n",
       "        text-align: right;\n",
       "    }\n",
       "</style>\n",
       "<table border=\"1\" class=\"dataframe\">\n",
       "  <thead>\n",
       "    <tr style=\"text-align: right;\">\n",
       "      <th></th>\n",
       "      <th>Unit price</th>\n",
       "      <th>Quantity</th>\n",
       "      <th>Tax 5%</th>\n",
       "      <th>Total</th>\n",
       "      <th>cogs</th>\n",
       "      <th>gross margin percentage</th>\n",
       "      <th>gross income</th>\n",
       "      <th>Rating</th>\n",
       "    </tr>\n",
       "    <tr>\n",
       "      <th>Titles</th>\n",
       "      <th></th>\n",
       "      <th></th>\n",
       "      <th></th>\n",
       "      <th></th>\n",
       "      <th></th>\n",
       "      <th></th>\n",
       "      <th></th>\n",
       "      <th></th>\n",
       "    </tr>\n",
       "  </thead>\n",
       "  <tbody>\n",
       "    <tr>\n",
       "      <th>missing_ratio</th>\n",
       "      <td>0.000</td>\n",
       "      <td>0.0</td>\n",
       "      <td>0.000000</td>\n",
       "      <td>0.000000</td>\n",
       "      <td>0.0000</td>\n",
       "      <td>0.000000</td>\n",
       "      <td>0.000000</td>\n",
       "      <td>0.0</td>\n",
       "    </tr>\n",
       "    <tr>\n",
       "      <th>min</th>\n",
       "      <td>10.080</td>\n",
       "      <td>1.0</td>\n",
       "      <td>0.508500</td>\n",
       "      <td>10.678500</td>\n",
       "      <td>10.1700</td>\n",
       "      <td>4.761905</td>\n",
       "      <td>0.508500</td>\n",
       "      <td>4.0</td>\n",
       "    </tr>\n",
       "    <tr>\n",
       "      <th>lower_quartile</th>\n",
       "      <td>32.875</td>\n",
       "      <td>3.0</td>\n",
       "      <td>5.924875</td>\n",
       "      <td>124.422375</td>\n",
       "      <td>118.4975</td>\n",
       "      <td>4.761905</td>\n",
       "      <td>5.924875</td>\n",
       "      <td>5.5</td>\n",
       "    </tr>\n",
       "    <tr>\n",
       "      <th>median</th>\n",
       "      <td>55.230</td>\n",
       "      <td>5.0</td>\n",
       "      <td>12.088000</td>\n",
       "      <td>253.848000</td>\n",
       "      <td>241.7600</td>\n",
       "      <td>4.761905</td>\n",
       "      <td>12.088000</td>\n",
       "      <td>7.0</td>\n",
       "    </tr>\n",
       "    <tr>\n",
       "      <th>upper_quartile</th>\n",
       "      <td>77.935</td>\n",
       "      <td>8.0</td>\n",
       "      <td>22.445250</td>\n",
       "      <td>471.350250</td>\n",
       "      <td>448.9050</td>\n",
       "      <td>4.761905</td>\n",
       "      <td>22.445250</td>\n",
       "      <td>8.5</td>\n",
       "    </tr>\n",
       "    <tr>\n",
       "      <th>max</th>\n",
       "      <td>99.960</td>\n",
       "      <td>10.0</td>\n",
       "      <td>49.650000</td>\n",
       "      <td>1042.650000</td>\n",
       "      <td>993.0000</td>\n",
       "      <td>4.761905</td>\n",
       "      <td>49.650000</td>\n",
       "      <td>10.0</td>\n",
       "    </tr>\n",
       "  </tbody>\n",
       "</table>\n",
       "</div>"
      ],
      "text/plain": [
       "                Unit price  Quantity     Tax 5%        Total      cogs  \\\n",
       "Titles                                                                   \n",
       "missing_ratio        0.000       0.0   0.000000     0.000000    0.0000   \n",
       "min                 10.080       1.0   0.508500    10.678500   10.1700   \n",
       "lower_quartile      32.875       3.0   5.924875   124.422375  118.4975   \n",
       "median              55.230       5.0  12.088000   253.848000  241.7600   \n",
       "upper_quartile      77.935       8.0  22.445250   471.350250  448.9050   \n",
       "max                 99.960      10.0  49.650000  1042.650000  993.0000   \n",
       "\n",
       "                gross margin percentage  gross income  Rating  \n",
       "Titles                                                         \n",
       "missing_ratio                  0.000000      0.000000     0.0  \n",
       "min                            4.761905      0.508500     4.0  \n",
       "lower_quartile                 4.761905      5.924875     5.5  \n",
       "median                         4.761905     12.088000     7.0  \n",
       "upper_quartile                 4.761905     22.445250     8.5  \n",
       "max                            4.761905     49.650000    10.0  "
      ]
     },
     "execution_count": 9,
     "metadata": {},
     "output_type": "execute_result"
    }
   ],
   "source": [
    "def get_numeric_col_info(df):\n",
    "    numeric_cols = df.select_dtypes(include=[np.number]).columns\n",
    "    titles = [\"missing_ratio\", \"min\", \"lower_quartile\", \"median\", \"upper_quartile\", \"max\"]\n",
    "\n",
    "    data = {col: [df[col].isna().mean() * 100, *df[col].describe()[['min', '25%', '50%', '75%', 'max']].values]\n",
    "            for col in numeric_cols}\n",
    "\n",
    "    data['Titles'] = titles\n",
    "    num_col_info_df = pd.DataFrame(data).set_index('Titles')\n",
    "    return num_col_info_df\n",
    "\n",
    "num_col_info_df = get_numeric_col_info(raw_supermarket_df)\n",
    "num_col_info_df"
   ]
  },
  {
   "cell_type": "markdown",
   "id": "f48aad74",
   "metadata": {},
   "source": [
    "#### Remove meaningless rows and columns\n",
    "Since the 'gross margin percentage' column only contains the value 4.761905, we have decided to remove it."
   ]
  },
  {
   "cell_type": "code",
   "execution_count": 10,
   "id": "074031b6",
   "metadata": {},
   "outputs": [],
   "source": [
    "raw_supermarket_df = raw_supermarket_df.drop(columns=['gross margin percentage'])"
   ]
  },
  {
   "cell_type": "markdown",
   "id": "c7217179",
   "metadata": {},
   "source": [
    "### 2.8. With each categorical column, how are values distributed?"
   ]
  },
  {
   "cell_type": "code",
   "execution_count": 11,
   "id": "26c10892",
   "metadata": {},
   "outputs": [
    {
     "data": {
      "text/html": [
       "<div>\n",
       "<style scoped>\n",
       "    .dataframe tbody tr th:only-of-type {\n",
       "        vertical-align: middle;\n",
       "    }\n",
       "\n",
       "    .dataframe tbody tr th {\n",
       "        vertical-align: top;\n",
       "    }\n",
       "\n",
       "    .dataframe thead th {\n",
       "        text-align: right;\n",
       "    }\n",
       "</style>\n",
       "<table border=\"1\" class=\"dataframe\">\n",
       "  <thead>\n",
       "    <tr style=\"text-align: right;\">\n",
       "      <th></th>\n",
       "      <th>Branch</th>\n",
       "      <th>City</th>\n",
       "      <th>Customer type</th>\n",
       "      <th>Gender</th>\n",
       "      <th>Product line</th>\n",
       "      <th>Payment</th>\n",
       "    </tr>\n",
       "    <tr>\n",
       "      <th>Titles</th>\n",
       "      <th></th>\n",
       "      <th></th>\n",
       "      <th></th>\n",
       "      <th></th>\n",
       "      <th></th>\n",
       "      <th></th>\n",
       "    </tr>\n",
       "  </thead>\n",
       "  <tbody>\n",
       "    <tr>\n",
       "      <th>missing_ratio</th>\n",
       "      <td>0.0</td>\n",
       "      <td>0.0</td>\n",
       "      <td>0.0</td>\n",
       "      <td>0.0</td>\n",
       "      <td>0.0</td>\n",
       "      <td>0.0</td>\n",
       "    </tr>\n",
       "    <tr>\n",
       "      <th>num_values</th>\n",
       "      <td>3</td>\n",
       "      <td>3</td>\n",
       "      <td>2</td>\n",
       "      <td>2</td>\n",
       "      <td>6</td>\n",
       "      <td>3</td>\n",
       "    </tr>\n",
       "    <tr>\n",
       "      <th>value_ratios</th>\n",
       "      <td>{'A': 340, 'B': 332, 'C': 328}</td>\n",
       "      <td>{'Yangon': 340, 'Mandalay': 332, 'Naypyitaw': 328}</td>\n",
       "      <td>{'Member': 501, 'Normal': 499}</td>\n",
       "      <td>{'Female': 501, 'Male': 499}</td>\n",
       "      <td>{'Fashion accessories': 178, 'Food and beverages': 174, 'Electronic accessories': 170, 'Sports and travel': 166, 'Home and lifestyle': 160, 'Health and beauty': 152}</td>\n",
       "      <td>{'Ewallet': 345, 'Cash': 344, 'Credit card': 311}</td>\n",
       "    </tr>\n",
       "  </tbody>\n",
       "</table>\n",
       "</div>"
      ],
      "text/plain": [
       "                                       Branch  \\\n",
       "Titles                                          \n",
       "missing_ratio                             0.0   \n",
       "num_values                                  3   \n",
       "value_ratios   {'A': 340, 'B': 332, 'C': 328}   \n",
       "\n",
       "                                                             City  \\\n",
       "Titles                                                              \n",
       "missing_ratio                                                 0.0   \n",
       "num_values                                                      3   \n",
       "value_ratios   {'Yangon': 340, 'Mandalay': 332, 'Naypyitaw': 328}   \n",
       "\n",
       "                                Customer type                        Gender  \\\n",
       "Titles                                                                        \n",
       "missing_ratio                             0.0                           0.0   \n",
       "num_values                                  2                             2   \n",
       "value_ratios   {'Member': 501, 'Normal': 499}  {'Female': 501, 'Male': 499}   \n",
       "\n",
       "                                                                                                                                                                        Product line  \\\n",
       "Titles                                                                                                                                                                                 \n",
       "missing_ratio                                                                                                                                                                    0.0   \n",
       "num_values                                                                                                                                                                         6   \n",
       "value_ratios   {'Fashion accessories': 178, 'Food and beverages': 174, 'Electronic accessories': 170, 'Sports and travel': 166, 'Home and lifestyle': 160, 'Health and beauty': 152}   \n",
       "\n",
       "                                                         Payment  \n",
       "Titles                                                            \n",
       "missing_ratio                                                0.0  \n",
       "num_values                                                     3  \n",
       "value_ratios   {'Ewallet': 345, 'Cash': 344, 'Credit card': 311}  "
      ]
     },
     "execution_count": 11,
     "metadata": {},
     "output_type": "execute_result"
    }
   ],
   "source": [
    "pd.set_option('display.max_colwidth', 300)\n",
    "pd.set_option('display.max_columns', None)\n",
    "\n",
    "def get_categorical_col_info(df):\n",
    "    categorical_df = df.select_dtypes(include=['object', 'bool'])\n",
    "    col_names = categorical_df.columns\n",
    "    titles = [\"missing_ratio\", \"num_values\", \"value_ratios\"]\n",
    "    values_list = []\n",
    "\n",
    "    for col in col_names:\n",
    "        size = len(categorical_df)\n",
    "        missing_ratio = ((categorical_df[col].isnull().sum() / size) * 100).round(3)\n",
    "        num_values = categorical_df[col].nunique()\n",
    "        value_counts = categorical_df[col].value_counts(normalize=False).to_dict()\n",
    "        values_list.append([missing_ratio, num_values, value_counts])\n",
    "\n",
    "    data = {col_names[i]: values_list[i] for i in range(len(col_names))}\n",
    "    data['Titles'] = titles\n",
    "    cat_col_info_df = pd.DataFrame(data).set_index('Titles')\n",
    "    return cat_col_info_df\n",
    "\n",
    "cat_col_info_df = get_categorical_col_info(raw_supermarket_df)\n",
    "cat_col_info_df"
   ]
  },
  {
   "cell_type": "markdown",
   "id": "ba222fa6",
   "metadata": {},
   "source": [
    "## 3. Is the collected data reasonable?                                         "
   ]
  },
  {
   "cell_type": "markdown",
   "id": "b9da53b8",
   "metadata": {},
   "source": [
    "### 3.1. Checking whether the columns `Branch` and `City` convey the same information or share a similar meaning within the dataset."
   ]
  },
  {
   "cell_type": "code",
   "execution_count": 12,
   "id": "4607f852",
   "metadata": {},
   "outputs": [],
   "source": [
    "def checking_branch_city(df: pd.DataFrame) -> bool:\n",
    "    \"\"\"Checking for the reasonable of Branch and City column.\n",
    "\n",
    "    Args:\n",
    "        df (pd.DataFrame): _description_\n",
    "\n",
    "    Returns:\n",
    "        bool: _description_\n",
    "    \"\"\"\n",
    "    unique_branch_city = raw_supermarket_df[['Branch', 'City']].drop_duplicates()\n",
    "    \n",
    "    if len(unique_branch_city) == 3:\n",
    "        return True\n",
    "    else:\n",
    "        return False"
   ]
  },
  {
   "cell_type": "code",
   "execution_count": 13,
   "id": "58504190",
   "metadata": {},
   "outputs": [
    {
     "data": {
      "text/plain": [
       "True"
      ]
     },
     "execution_count": 13,
     "metadata": {},
     "output_type": "execute_result"
    }
   ],
   "source": [
    "checking_branch_city(raw_supermarket_df)"
   ]
  },
  {
   "cell_type": "markdown",
   "id": "f6a58a75",
   "metadata": {},
   "source": [
    "Since 'Branch' and 'City' contain similar information, we decided to remove 'Branch' from the dataset."
   ]
  },
  {
   "cell_type": "code",
   "execution_count": 14,
   "id": "4ee00f3d",
   "metadata": {},
   "outputs": [],
   "source": [
    "raw_supermarket_df = raw_supermarket_df.drop(columns=['Branch'])"
   ]
  },
  {
   "cell_type": "markdown",
   "id": "077ddc2e",
   "metadata": {},
   "source": [
    "### 3.2. Checking the reasonability of the `Tax 5%` column's values\n",
    "The tax is calculated as follows:  \n",
    "$$\\text{Tax} = \\text{Unit price} \\times \\text{Quantity} \\times \\frac{5}{100}$$ "
   ]
  },
  {
   "cell_type": "code",
   "execution_count": 15,
   "id": "32db97d8",
   "metadata": {},
   "outputs": [],
   "source": [
    "def checking_tax(df: pd.DataFrame, tolerance=1e-10) -> bool:\n",
    "    \"\"\"Checking for the reasonableness of the Tax column.\n",
    "\n",
    "    Args:\n",
    "        df (pd.DataFrame): DataFrame containing columns 'Tax 5%', 'Unit price', 'Quantity'.\n",
    "        tolerance (float): Tolerance level for the acceptable difference. Default is 1e-10.\n",
    "\n",
    "    Returns:\n",
    "        bool: True if differences are within the tolerance, False otherwise.\n",
    "    \"\"\"\n",
    "    calculated_tax = df['Unit price'] * df['Quantity'] * 0.05\n",
    "    differences = abs(df['Tax 5%'] - calculated_tax)\n",
    "    return (differences <= tolerance).all()"
   ]
  },
  {
   "cell_type": "code",
   "execution_count": 16,
   "id": "b2f18fb8",
   "metadata": {},
   "outputs": [
    {
     "data": {
      "text/plain": [
       "True"
      ]
     },
     "execution_count": 16,
     "metadata": {},
     "output_type": "execute_result"
    }
   ],
   "source": [
    "checking_tax(raw_supermarket_df)"
   ]
  },
  {
   "cell_type": "markdown",
   "id": "33f5cc03",
   "metadata": {},
   "source": [
    "### 3.3. Checking the reasonability of the `Total` column's values\n",
    "The total price is calculated as follows:  \n",
    "$$\\text{Total} = \\text{Unit price} \\times \\text{Quantity} + \\text{Tax}$$\n",
    "$$\\implies \\text{Total} = \\text{Unit price} \\times \\text{Quantity} \\times 1.05$$"
   ]
  },
  {
   "cell_type": "code",
   "execution_count": 17,
   "id": "bc1305fc",
   "metadata": {},
   "outputs": [],
   "source": [
    "def checking_total(df: pd.DataFrame, tolerance=1e-10) -> bool:\n",
    "    \"\"\"Checking for the reasonableness of the Total column.\n",
    "\n",
    "    Args:\n",
    "        df (pd.DataFrame): DataFrame containing columns 'Total', 'Unit price', 'Quantity'.\n",
    "        tolerance (float): Tolerance level for the acceptable difference. Default is 1e-10.\n",
    "\n",
    "    Returns:\n",
    "        bool: True if differences are within the tolerance, False otherwise.\n",
    "    \"\"\"\n",
    "    calculated_price = df['Unit price'] * df['Quantity'] * 1.05\n",
    "    differences = abs(df['Total'] - calculated_price)\n",
    "    return (differences <= tolerance).all()"
   ]
  },
  {
   "cell_type": "code",
   "execution_count": 18,
   "id": "dabe3813",
   "metadata": {},
   "outputs": [
    {
     "data": {
      "text/plain": [
       "True"
      ]
     },
     "execution_count": 18,
     "metadata": {},
     "output_type": "execute_result"
    }
   ],
   "source": [
    "checking_total(raw_supermarket_df)"
   ]
  },
  {
   "cell_type": "markdown",
   "id": "49547a72",
   "metadata": {},
   "source": [
    "## 4. Save processed data"
   ]
  },
  {
   "cell_type": "code",
   "execution_count": 19,
   "id": "cc3d7a13",
   "metadata": {},
   "outputs": [],
   "source": [
    "save_name = 'supermarket_sales_processed.csv'\n",
    "raw_supermarket_df.to_csv(f'../data/processed/{save_name}', index='Invoice ID')"
   ]
  }
 ],
 "metadata": {
  "kernelspec": {
   "display_name": "Python 3 (ipykernel)",
   "language": "python",
   "name": "python3"
  },
  "language_info": {
   "codemirror_mode": {
    "name": "ipython",
    "version": 3
   },
   "file_extension": ".py",
   "mimetype": "text/x-python",
   "name": "python",
   "nbconvert_exporter": "python",
   "pygments_lexer": "ipython3",
   "version": "3.11.5"
  }
 },
 "nbformat": 4,
 "nbformat_minor": 5
}
