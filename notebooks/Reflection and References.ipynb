{
 "cells": [
  {
   "cell_type": "markdown",
   "id": "6a11125b-1d5a-4253-98cd-52a60fd5397e",
   "metadata": {},
   "source": [
    "<div style=\"text-align: center; background-color: #0A6EBD; font-family: 'Trebuchet MS', Arial, sans-serif; color: white; padding: 30px; font-size: 27px; font-weight: bold; border-radius: 0 0 0 0; box-shadow: 0px 6px 8px rgba(0, 0, 0, 0.2);\">\n",
    "  Final Project - Programming For Data Science @ FIT-HCMUS, VNU-HCM\n",
    "</div>"
   ]
  },
  {
   "cell_type": "markdown",
   "id": "f522fbb4-96fb-4f9e-b8cc-38bd2ddf9642",
   "metadata": {},
   "source": [
    "<div style=\"text-align: center; background-color: #5A96E3; font-family: 'Trebuchet MS', Arial, sans-serif; color: white; padding: 20px; font-size: 25px; font-weight: bold; border-radius: 0 0 0 0; box-shadow: 0px 6px 8px rgba(0, 0, 0, 0.2);\">\n",
    "  Reflection and References\n",
    "</div>"
   ]
  },
  {
   "cell_type": "markdown",
   "id": "c69fef9a-c932-41a6-a12f-8df7f13ee642",
   "metadata": {},
   "source": [
    "# 1. Reflection"
   ]
  },
  {
   "cell_type": "markdown",
   "id": "dfa24e4e-840d-4562-b289-d2b8c19c44db",
   "metadata": {},
   "source": [
    "## 1.1 Member"
   ]
  },
  {
   "cell_type": "markdown",
   "id": "85a4fe83-b9ad-47b5-bcca-0b90cbd7b612",
   "metadata": {},
   "source": [
    "### 1.1.1 Phạm Thành Tài - 20120570  \n",
    "Difficulties: \n",
    "- Limited knowledge of economics and market analysis.\n",
    "- Not proficient in using modules and libraries. \n",
    "- Findings from a small dataset may not be easily generalized to a larger population or customer base.\n",
    "\n",
    "What I have learned:\r\n",
    "- Practice data analysis skills to answer meaningful questions.\r\n",
    "- Improve proficiency in using modules and libraries in Python."
   ]
  },
  {
   "cell_type": "markdown",
   "id": "1a2d36b9-f3b7-4e83-97e9-34b15135e57b",
   "metadata": {},
   "source": [
    "### 1.1.2 Nguyễn Vân Hào - 21120240  \n",
    "Difficulties: \n",
    "- Facing challenges in choosing appropriate and high-quality datasets.\n",
    "- Not familiar with how to extract meaning from a chart for detailed analysis.\n",
    "- Having difficulty formulating a meaningful question.  \n",
    "\n",
    "\n",
    "What I have learned:\n",
    "- Familiar with data science process.\n",
    "- Gained more proficiency in utilizing tools for collaborative teamwork."
   ]
  },
  {
   "cell_type": "markdown",
   "id": "911d6571-d564-4256-a395-32845ca61bda",
   "metadata": {},
   "source": [
    "### 1.1.3 Võ Châu Đăng Khoa - 21120273"
   ]
  },
  {
   "cell_type": "markdown",
   "id": "c152ba9d-d364-4514-aa8c-c64a236138b4",
   "metadata": {},
   "source": [
    "## 1.2 Group"
   ]
  },
  {
   "cell_type": "markdown",
   "id": "a56d0de1-d30d-463d-a824-1b34a22a6ada",
   "metadata": {},
   "source": [
    "**If have more time**  \n",
    "- Learn and apply machine learning models.\n",
    "- Research and explore more deeply the numerical data fields to discover useful insights for economic aspects."
   ]
  },
  {
   "cell_type": "markdown",
   "id": "7a4af2b6-9148-4c01-a6d0-602469a70ec8",
   "metadata": {},
   "source": [
    "# 2 References"
   ]
  }
 ],
 "metadata": {
  "kernelspec": {
   "display_name": "Python 3 (ipykernel)",
   "language": "python",
   "name": "python3"
  },
  "language_info": {
   "codemirror_mode": {
    "name": "ipython",
    "version": 3
   },
   "file_extension": ".py",
   "mimetype": "text/x-python",
   "name": "python",
   "nbconvert_exporter": "python",
   "pygments_lexer": "ipython3",
   "version": "3.10.8"
  }
 },
 "nbformat": 4,
 "nbformat_minor": 5
}
